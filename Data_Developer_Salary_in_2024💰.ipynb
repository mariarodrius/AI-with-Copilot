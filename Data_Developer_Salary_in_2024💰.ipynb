{
  "metadata": {
    "kernelspec": {
      "language": "python",
      "display_name": "Python 3",
      "name": "python3"
    },
    "language_info": {
      "name": "python",
      "version": "3.10.13",
      "mimetype": "text/x-python",
      "codemirror_mode": {
        "name": "ipython",
        "version": 3
      },
      "pygments_lexer": "ipython3",
      "nbconvert_exporter": "python",
      "file_extension": ".py"
    },
    "kaggle": {
      "accelerator": "none",
      "dataSources": [
        {
          "sourceId": 8653190,
          "sourceType": "datasetVersion",
          "datasetId": 5183463
        }
      ],
      "dockerImageVersionId": 30732,
      "isInternetEnabled": true,
      "language": "python",
      "sourceType": "notebook",
      "isGpuEnabled": false
    },
    "colab": {
      "name": "Data Developer Salary in 2024💰",
      "provenance": [],
      "include_colab_link": true
    }
  },
  "nbformat_minor": 0,
  "nbformat": 4,
  "cells": [
    {
      "cell_type": "markdown",
      "metadata": {
        "id": "view-in-github",
        "colab_type": "text"
      },
      "source": [
        "<a href=\"https://colab.research.google.com/github/mariarodrius/AI-with-Copilot/blob/main/Data_Developer_Salary_in_2024%F0%9F%92%B0.ipynb\" target=\"_parent\"><img src=\"https://colab.research.google.com/assets/colab-badge.svg\" alt=\"Open In Colab\"/></a>"
      ]
    },
    {
      "source": [
        "\n",
        "# IMPORTANT: RUN THIS CELL IN ORDER TO IMPORT YOUR KAGGLE DATA SOURCES\n",
        "# TO THE CORRECT LOCATION (/kaggle/input) IN YOUR NOTEBOOK,\n",
        "# THEN FEEL FREE TO DELETE THIS CELL.\n",
        "# NOTE: THIS NOTEBOOK ENVIRONMENT DIFFERS FROM KAGGLE'S PYTHON\n",
        "# ENVIRONMENT SO THERE MAY BE MISSING LIBRARIES USED BY YOUR\n",
        "# NOTEBOOK.\n",
        "\n",
        "import os\n",
        "import sys\n",
        "from tempfile import NamedTemporaryFile\n",
        "from urllib.request import urlopen\n",
        "from urllib.parse import unquote, urlparse\n",
        "from urllib.error import HTTPError\n",
        "from zipfile import ZipFile\n",
        "import tarfile\n",
        "import shutil\n",
        "\n",
        "CHUNK_SIZE = 40960\n",
        "DATA_SOURCE_MAPPING = 'data-eng-salary-2024:https%3A%2F%2Fstorage.googleapis.com%2Fkaggle-data-sets%2F5183463%2F8653190%2Fbundle%2Farchive.zip%3FX-Goog-Algorithm%3DGOOG4-RSA-SHA256%26X-Goog-Credential%3Dgcp-kaggle-com%2540kaggle-161607.iam.gserviceaccount.com%252F20240618%252Fauto%252Fstorage%252Fgoog4_request%26X-Goog-Date%3D20240618T081746Z%26X-Goog-Expires%3D259200%26X-Goog-SignedHeaders%3Dhost%26X-Goog-Signature%3Db8b269e77b5d2147733c890a4438939c692d51fe4d60bf4a730dc8cf798fa253033a4ebc5c0206811af208c5cb84bf21e6273c1f49c95314b37bd245137eb5f9a0408268c50e3dc75c3f8e04a8f7c419be121be3a2afbadcd48e38561f4929f5404b6283f6ddcee17219128355ebb62e0b74b12be211fa770f9ff3bed4f09a8925deb1b5e6c81568031f2bd30a4615781d4d7730e8736edeb96677d7515a1fa15202ae0cdf973698d62ae590176a1e6ec8ee49f91e47089d258301226215dd06854bcd99758c972b7d4b1e5fa8257307ed8b9c8198755d95ec4e912805139c21266dd21f849320d85bd9e76f2f018a29f75ed887af14482d31dcf9d62632bca9'\n",
        "\n",
        "KAGGLE_INPUT_PATH='/kaggle/input'\n",
        "KAGGLE_WORKING_PATH='/kaggle/working'\n",
        "KAGGLE_SYMLINK='kaggle'\n",
        "\n",
        "!umount /kaggle/input/ 2> /dev/null\n",
        "shutil.rmtree('/kaggle/input', ignore_errors=True)\n",
        "os.makedirs(KAGGLE_INPUT_PATH, 0o777, exist_ok=True)\n",
        "os.makedirs(KAGGLE_WORKING_PATH, 0o777, exist_ok=True)\n",
        "\n",
        "try:\n",
        "  os.symlink(KAGGLE_INPUT_PATH, os.path.join(\"..\", 'input'), target_is_directory=True)\n",
        "except FileExistsError:\n",
        "  pass\n",
        "try:\n",
        "  os.symlink(KAGGLE_WORKING_PATH, os.path.join(\"..\", 'working'), target_is_directory=True)\n",
        "except FileExistsError:\n",
        "  pass\n",
        "\n",
        "for data_source_mapping in DATA_SOURCE_MAPPING.split(','):\n",
        "    directory, download_url_encoded = data_source_mapping.split(':')\n",
        "    download_url = unquote(download_url_encoded)\n",
        "    filename = urlparse(download_url).path\n",
        "    destination_path = os.path.join(KAGGLE_INPUT_PATH, directory)\n",
        "    try:\n",
        "        with urlopen(download_url) as fileres, NamedTemporaryFile() as tfile:\n",
        "            total_length = fileres.headers['content-length']\n",
        "            print(f'Downloading {directory}, {total_length} bytes compressed')\n",
        "            dl = 0\n",
        "            data = fileres.read(CHUNK_SIZE)\n",
        "            while len(data) > 0:\n",
        "                dl += len(data)\n",
        "                tfile.write(data)\n",
        "                done = int(50 * dl / int(total_length))\n",
        "                sys.stdout.write(f\"\\r[{'=' * done}{' ' * (50-done)}] {dl} bytes downloaded\")\n",
        "                sys.stdout.flush()\n",
        "                data = fileres.read(CHUNK_SIZE)\n",
        "            if filename.endswith('.zip'):\n",
        "              with ZipFile(tfile) as zfile:\n",
        "                zfile.extractall(destination_path)\n",
        "            else:\n",
        "              with tarfile.open(tfile.name) as tarfile:\n",
        "                tarfile.extractall(destination_path)\n",
        "            print(f'\\nDownloaded and uncompressed: {directory}')\n",
        "    except HTTPError as e:\n",
        "        print(f'Failed to load (likely expired) {download_url} to path {destination_path}')\n",
        "        continue\n",
        "    except OSError as e:\n",
        "        print(f'Failed to load {download_url} to path {destination_path}')\n",
        "        continue\n",
        "\n",
        "print('Data source import complete.')\n"
      ],
      "metadata": {
        "id": "3uoyh9g_bHRL"
      },
      "cell_type": "code",
      "outputs": [],
      "execution_count": null
    },
    {
      "cell_type": "markdown",
      "source": [
        "بسم الله"
      ],
      "metadata": {
        "id": "xzY6pGYYbHRP"
      }
    },
    {
      "cell_type": "code",
      "source": [
        "import pandas as pd\n",
        "import numpy as np\n",
        "import matplotlib.pyplot as plt\n",
        "import seaborn as sns\n",
        "import plotly.express as px\n",
        "from wordcloud import WordCloud\n",
        "import plotly.graph_objects as go\n",
        "\n",
        "import warnings\n",
        "warnings.filterwarnings('ignore')"
      ],
      "metadata": {
        "execution": {
          "iopub.status.busy": "2024-06-17T13:12:33.503507Z",
          "iopub.execute_input": "2024-06-17T13:12:33.504053Z",
          "iopub.status.idle": "2024-06-17T13:12:36.666403Z",
          "shell.execute_reply.started": "2024-06-17T13:12:33.504005Z",
          "shell.execute_reply": "2024-06-17T13:12:36.66522Z"
        },
        "trusted": true,
        "id": "Y1VfN9KIbHRR"
      },
      "execution_count": null,
      "outputs": []
    },
    {
      "cell_type": "code",
      "source": [
        "df = pd.read_csv(\"/kaggle/input/data-eng-salary-2024/Dataset salary 2024.csv\")\n",
        "df"
      ],
      "metadata": {
        "execution": {
          "iopub.status.busy": "2024-06-17T13:12:36.668471Z",
          "iopub.execute_input": "2024-06-17T13:12:36.668987Z",
          "iopub.status.idle": "2024-06-17T13:12:36.766492Z",
          "shell.execute_reply.started": "2024-06-17T13:12:36.668958Z",
          "shell.execute_reply": "2024-06-17T13:12:36.765473Z"
        },
        "trusted": true,
        "id": "YuK6XEiTbHRS"
      },
      "execution_count": null,
      "outputs": []
    },
    {
      "cell_type": "code",
      "source": [
        "df.shape"
      ],
      "metadata": {
        "execution": {
          "iopub.status.busy": "2024-06-17T13:12:49.09103Z",
          "iopub.execute_input": "2024-06-17T13:12:49.091467Z",
          "iopub.status.idle": "2024-06-17T13:12:49.098683Z",
          "shell.execute_reply.started": "2024-06-17T13:12:49.091433Z",
          "shell.execute_reply": "2024-06-17T13:12:49.097544Z"
        },
        "trusted": true,
        "id": "5fipIUeJbHRS"
      },
      "execution_count": null,
      "outputs": []
    },
    {
      "cell_type": "code",
      "source": [
        "df.head()"
      ],
      "metadata": {
        "execution": {
          "iopub.status.busy": "2024-06-17T13:12:36.767848Z",
          "iopub.execute_input": "2024-06-17T13:12:36.768548Z",
          "iopub.status.idle": "2024-06-17T13:12:36.783366Z",
          "shell.execute_reply.started": "2024-06-17T13:12:36.768516Z",
          "shell.execute_reply": "2024-06-17T13:12:36.782314Z"
        },
        "trusted": true,
        "id": "KAQD0MNtbHRT"
      },
      "execution_count": null,
      "outputs": []
    },
    {
      "cell_type": "code",
      "source": [
        "df.columns.to_list()"
      ],
      "metadata": {
        "execution": {
          "iopub.status.busy": "2024-06-17T13:13:14.058056Z",
          "iopub.execute_input": "2024-06-17T13:13:14.058794Z",
          "iopub.status.idle": "2024-06-17T13:13:14.065576Z",
          "shell.execute_reply.started": "2024-06-17T13:13:14.058758Z",
          "shell.execute_reply": "2024-06-17T13:13:14.064505Z"
        },
        "trusted": true,
        "id": "A78qGaAhbHRT"
      },
      "execution_count": null,
      "outputs": []
    },
    {
      "cell_type": "code",
      "source": [
        "print(\"DataFrame Info:\")\n",
        "df.info()"
      ],
      "metadata": {
        "execution": {
          "iopub.status.busy": "2024-06-17T13:13:36.26461Z",
          "iopub.execute_input": "2024-06-17T13:13:36.265347Z",
          "iopub.status.idle": "2024-06-17T13:13:36.299974Z",
          "shell.execute_reply.started": "2024-06-17T13:13:36.26531Z",
          "shell.execute_reply": "2024-06-17T13:13:36.299Z"
        },
        "trusted": true,
        "id": "BM0y_UujbHRU"
      },
      "execution_count": null,
      "outputs": []
    },
    {
      "cell_type": "code",
      "source": [
        "print(\"\\nSummary Statistics:\")\n",
        "df.describe().T"
      ],
      "metadata": {
        "execution": {
          "iopub.status.busy": "2024-06-17T13:14:01.948498Z",
          "iopub.execute_input": "2024-06-17T13:14:01.948883Z",
          "iopub.status.idle": "2024-06-17T13:14:01.976903Z",
          "shell.execute_reply.started": "2024-06-17T13:14:01.948855Z",
          "shell.execute_reply": "2024-06-17T13:14:01.975901Z"
        },
        "trusted": true,
        "id": "IVWFUGw2bHRU"
      },
      "execution_count": null,
      "outputs": []
    },
    {
      "cell_type": "code",
      "source": [
        "df.describe().T.plot(kind='bar')"
      ],
      "metadata": {
        "execution": {
          "iopub.status.busy": "2024-06-17T13:14:24.555907Z",
          "iopub.execute_input": "2024-06-17T13:14:24.556313Z",
          "iopub.status.idle": "2024-06-17T13:14:24.967045Z",
          "shell.execute_reply.started": "2024-06-17T13:14:24.556281Z",
          "shell.execute_reply": "2024-06-17T13:14:24.966044Z"
        },
        "trusted": true,
        "id": "VnKuexpXbHRV"
      },
      "execution_count": null,
      "outputs": []
    },
    {
      "cell_type": "code",
      "source": [
        "df.isna().sum()"
      ],
      "metadata": {
        "execution": {
          "iopub.status.busy": "2024-06-17T13:16:24.131569Z",
          "iopub.execute_input": "2024-06-17T13:16:24.132503Z",
          "iopub.status.idle": "2024-06-17T13:16:24.15331Z",
          "shell.execute_reply.started": "2024-06-17T13:16:24.132467Z",
          "shell.execute_reply": "2024-06-17T13:16:24.152189Z"
        },
        "trusted": true,
        "id": "yVpJAZSbbHRV"
      },
      "execution_count": null,
      "outputs": []
    },
    {
      "cell_type": "code",
      "source": [
        "df.duplicated().sum()"
      ],
      "metadata": {
        "execution": {
          "iopub.status.busy": "2024-06-17T13:16:39.301633Z",
          "iopub.execute_input": "2024-06-17T13:16:39.30205Z",
          "iopub.status.idle": "2024-06-17T13:16:39.327873Z",
          "shell.execute_reply.started": "2024-06-17T13:16:39.302016Z",
          "shell.execute_reply": "2024-06-17T13:16:39.326778Z"
        },
        "trusted": true,
        "id": "HjkxhtCRbHRW"
      },
      "execution_count": null,
      "outputs": []
    },
    {
      "cell_type": "code",
      "source": [
        "df = df.drop_duplicates()\n"
      ],
      "metadata": {
        "execution": {
          "iopub.status.busy": "2024-06-17T13:17:53.037038Z",
          "iopub.execute_input": "2024-06-17T13:17:53.037942Z",
          "iopub.status.idle": "2024-06-17T13:17:53.057352Z",
          "shell.execute_reply.started": "2024-06-17T13:17:53.037906Z",
          "shell.execute_reply": "2024-06-17T13:17:53.056471Z"
        },
        "trusted": true,
        "id": "UFfmF66pbHRW"
      },
      "execution_count": null,
      "outputs": []
    },
    {
      "cell_type": "code",
      "source": [
        "import plotly.express as px\n",
        "\n",
        "columns = ['work_year',\n",
        " 'experience_level',\n",
        " 'employment_type',\n",
        " 'job_title',\n",
        " 'salary',\n",
        " 'salary_currency',\n",
        " 'salary_in_usd',\n",
        " 'employee_residence',\n",
        " 'remote_ratio',\n",
        " 'company_location',\n",
        " 'company_size']\n",
        "\n",
        "for column in columns:\n",
        "    fig = px.histogram(data_frame=df, x=column)\n",
        "    fig.show()"
      ],
      "metadata": {
        "execution": {
          "iopub.status.busy": "2024-06-17T13:18:34.213285Z",
          "iopub.execute_input": "2024-06-17T13:18:34.214259Z",
          "iopub.status.idle": "2024-06-17T13:18:36.901862Z",
          "shell.execute_reply.started": "2024-06-17T13:18:34.214217Z",
          "shell.execute_reply": "2024-06-17T13:18:36.900761Z"
        },
        "trusted": true,
        "id": "xndIsWz4bHRW"
      },
      "execution_count": null,
      "outputs": []
    },
    {
      "cell_type": "code",
      "source": [
        "numeric_cols = df.select_dtypes(include=np.number).columns  # اختيار الأعمدة الرقمية فقط\n",
        "plt.figure(figsize=(12, 8))\n",
        "sns.heatmap(df[numeric_cols].corr(), annot=True, cmap='coolwarm')\n",
        "plt.title('Correlation Matrix')\n",
        "plt.show()"
      ],
      "metadata": {
        "execution": {
          "iopub.status.busy": "2024-06-17T13:18:54.548607Z",
          "iopub.execute_input": "2024-06-17T13:18:54.549024Z",
          "iopub.status.idle": "2024-06-17T13:18:54.876057Z",
          "shell.execute_reply.started": "2024-06-17T13:18:54.548991Z",
          "shell.execute_reply": "2024-06-17T13:18:54.875115Z"
        },
        "trusted": true,
        "id": "BqSnznMmbHRW"
      },
      "execution_count": null,
      "outputs": []
    },
    {
      "cell_type": "code",
      "source": [
        "\n",
        "print(\"Summary Statistics:\")\n",
        "print(df.describe())\n",
        "print()\n",
        "\n",
        "print(\"Unique Values in Categorical Columns:\")\n",
        "for column in df.select_dtypes(include='object').columns:\n",
        "    print(column + \":\", df[column].unique())\n",
        "    print()\n",
        "\n",
        "# 2. Work Experience Analysis\n",
        "plt.figure(figsize=(10, 6))\n",
        "sns.histplot(df['work_year'], bins=20, kde=True, color='skyblue')\n",
        "plt.title('Distribution of Work Years')\n",
        "plt.xlabel('Work Years')\n",
        "plt.ylabel('Frequency')\n",
        "plt.show()\n",
        "\n",
        "plt.figure(figsize=(10, 6))\n",
        "sns.scatterplot(x='work_year', y='salary', data=df, alpha=0.5)\n",
        "plt.title('Relationship between Work Years and Salary')\n",
        "plt.xlabel('Work Years')\n",
        "plt.ylabel('Salary')\n",
        "plt.show()\n",
        "\n",
        "# 3. Experience Level Analysis\n",
        "plt.figure(figsize=(8, 5))\n",
        "sns.countplot(x='experience_level', data=df, palette='muted')\n",
        "plt.title('Distribution of Experience Levels')\n",
        "plt.xlabel('Experience Level')\n",
        "plt.ylabel('Count')\n",
        "plt.show()\n",
        "\n",
        "plt.figure(figsize=(10, 6))\n",
        "sns.boxplot(x='experience_level', y='salary', data=df, palette='muted')\n",
        "plt.title('Salary Distribution by Experience Level')\n",
        "plt.xlabel('Experience Level')\n",
        "plt.ylabel('Salary')\n",
        "plt.show()\n",
        "\n",
        "# 4. Employment Type Analysis\n",
        "plt.figure(figsize=(8, 5))\n",
        "sns.countplot(x='employment_type', data=df, palette='pastel')\n",
        "plt.title('Distribution of Employment Types')\n",
        "plt.xlabel('Employment Type')\n",
        "plt.ylabel('Count')\n",
        "plt.show()\n",
        "\n",
        "plt.figure(figsize=(10, 6))\n",
        "sns.barplot(x='employment_type', y='salary', data=df, palette='pastel')\n",
        "plt.title('Average Salary by Employment Type')\n",
        "plt.xlabel('Employment Type')\n",
        "plt.ylabel('Average Salary')\n",
        "plt.show()\n",
        "\n",
        "# 5. Job Title Analysis\n",
        "plt.figure(figsize=(10, 6))\n",
        "top_job_titles = df['job_title'].value_counts().head(10)\n",
        "sns.barplot(x=top_job_titles.values, y=top_job_titles.index, palette='Set2')\n",
        "plt.title('Top 10 Job Titles')\n",
        "plt.xlabel('Count')\n",
        "plt.ylabel('Job Title')\n",
        "plt.show()\n",
        "\n",
        "plt.figure(figsize=(10, 6))\n",
        "sns.boxplot(x='job_title', y='salary', data=df, palette='Set2')\n",
        "plt.title('Salary Distribution by Job Title')\n",
        "plt.xlabel('Job Title')\n",
        "plt.ylabel('Salary')\n",
        "plt.xticks(rotation=45)\n",
        "plt.show()\n",
        "\n",
        "# 6. Salary Analysis\n",
        "plt.figure(figsize=(10, 6))\n",
        "sns.histplot(df['salary'], bins=30, kde=True, color='skyblue')\n",
        "plt.title('Salary Distribution among Data Developers')\n",
        "plt.xlabel('Salary')\n",
        "plt.ylabel('Frequency')\n",
        "plt.show()\n",
        "\n",
        "# 7. Salary Currency Analysis\n",
        "plt.figure(figsize=(8, 5))\n",
        "sns.countplot(x='salary_currency', data=df, palette='Set3')\n",
        "plt.title('Distribution of Salary Currencies')\n",
        "plt.xlabel('Salary Currency')\n",
        "plt.ylabel('Count')\n",
        "plt.show()\n",
        "\n",
        "# 8. Employee Residence Analysis\n",
        "plt.figure(figsize=(10, 6))\n",
        "top_employee_residences = df['employee_residence'].value_counts().head(10)\n",
        "sns.barplot(x=top_employee_residences.values, y=top_employee_residences.index, palette='Blues_r')\n",
        "plt.title('Top 10 Employee Residences')\n",
        "plt.xlabel('Count')\n",
        "plt.ylabel('Residence')\n",
        "plt.show()\n",
        "\n",
        "plt.figure(figsize=(10, 6))\n",
        "sns.boxplot(x='employee_residence', y='salary', data=df, palette='Blues_r')\n",
        "plt.title('Salary Distribution by Employee Residence')\n",
        "plt.xlabel('Employee Residence')\n",
        "plt.ylabel('Salary')\n",
        "plt.xticks(rotation=45)\n",
        "plt.show()\n",
        "\n",
        "# 9. Remote Work Ratio Analysis\n",
        "plt.figure(figsize=(10, 6))\n",
        "sns.histplot(df['remote_ratio'], bins=20, kde=True, color='lightgreen')\n",
        "plt.title('Distribution of Remote Work Ratio')\n",
        "plt.xlabel('Remote Work Ratio')\n",
        "plt.ylabel('Frequency')\n",
        "plt.show()\n",
        "\n",
        "plt.figure(figsize=(10, 6))\n",
        "sns.scatterplot(x='remote_ratio', y='salary', data=df, alpha=0.5, color='lightgreen')\n",
        "plt.title('Relationship between Remote Work Ratio and Salary')\n",
        "plt.xlabel('Remote Work Ratio')\n",
        "plt.ylabel('Salary')\n",
        "plt.show()\n",
        "\n",
        "# 10. Company Location Analysis\n",
        "plt.figure(figsize=(10, 6))\n",
        "top_company_locations = df['company_location'].value_counts().head(10)\n",
        "sns.barplot(x=top_company_locations.values, y=top_company_locations.index, palette='Oranges_r')\n",
        "plt.title('Top 10 Company Locations')\n",
        "plt.xlabel('Count')\n",
        "plt.ylabel('Company Location')\n",
        "plt.show()\n",
        "\n",
        "plt.figure(figsize=(10, 6))\n",
        "sns.boxplot(x='company_location', y='salary', data=df, palette='Oranges_r')\n",
        "plt.title('Salary Distribution by Company Location')\n",
        "plt.xlabel('Company Location')\n",
        "plt.ylabel('Salary')\n",
        "plt.xticks(rotation=45)\n",
        "plt.show()\n",
        "\n",
        "# 11. Company Size Analysis\n",
        "plt.figure(figsize=(8, 5))\n",
        "sns.countplot(x='company_size', data=df, palette='muted')\n",
        "plt.title('Distribution of Company Sizes')\n",
        "plt.xlabel('Company Size')\n",
        "plt.ylabel('Count')\n",
        "plt.show()\n",
        "\n",
        "plt.figure(figsize=(10, 6))\n",
        "sns.boxplot(x='company_size', y='salary', data=df, palette='muted')\n",
        "plt.title('Salary Distribution by Company Size')\n",
        "plt.xlabel('Company Size')\n",
        "plt.ylabel('Salary')\n",
        "plt.show()"
      ],
      "metadata": {
        "execution": {
          "iopub.status.busy": "2024-06-17T13:15:49.025563Z",
          "iopub.execute_input": "2024-06-17T13:15:49.026498Z",
          "iopub.status.idle": "2024-06-17T13:16:00.637244Z",
          "shell.execute_reply.started": "2024-06-17T13:15:49.026464Z",
          "shell.execute_reply": "2024-06-17T13:16:00.635101Z"
        },
        "trusted": true,
        "id": "H6OI0XxFbHRX"
      },
      "execution_count": null,
      "outputs": []
    },
    {
      "cell_type": "code",
      "source": [
        "df.hist(bins = 20, figsize = (20,20), color = 'g')\n",
        "plt.show()"
      ],
      "metadata": {
        "execution": {
          "iopub.status.busy": "2024-06-17T13:19:19.128075Z",
          "iopub.execute_input": "2024-06-17T13:19:19.128916Z",
          "iopub.status.idle": "2024-06-17T13:19:20.236391Z",
          "shell.execute_reply.started": "2024-06-17T13:19:19.128881Z",
          "shell.execute_reply": "2024-06-17T13:19:20.235301Z"
        },
        "trusted": true,
        "id": "ShK5JMkVbHRZ"
      },
      "execution_count": null,
      "outputs": []
    },
    {
      "cell_type": "code",
      "source": [
        "sns.pairplot(df)"
      ],
      "metadata": {
        "execution": {
          "iopub.status.busy": "2024-06-17T13:19:30.438901Z",
          "iopub.execute_input": "2024-06-17T13:19:30.440026Z",
          "iopub.status.idle": "2024-06-17T13:19:43.737517Z",
          "shell.execute_reply.started": "2024-06-17T13:19:30.439973Z",
          "shell.execute_reply": "2024-06-17T13:19:43.736386Z"
        },
        "trusted": true,
        "id": "I9mgzKwibHRZ"
      },
      "execution_count": null,
      "outputs": []
    },
    {
      "cell_type": "code",
      "source": [
        "from wordcloud import WordCloud\n",
        "\n",
        "reviews_text = ' '.join(df['job_title'].dropna())\n",
        "wordcloud = WordCloud(width=800, height=400, background_color='white').generate(reviews_text)\n",
        "plt.figure(figsize=(12, 6))\n",
        "plt.imshow(wordcloud, interpolation='bilinear')\n",
        "plt.title('Word Cloud of Reviews')\n",
        "plt.axis('off')"
      ],
      "metadata": {
        "execution": {
          "iopub.status.busy": "2024-06-17T13:20:33.83194Z",
          "iopub.execute_input": "2024-06-17T13:20:33.832419Z",
          "iopub.status.idle": "2024-06-17T13:20:34.894403Z",
          "shell.execute_reply.started": "2024-06-17T13:20:33.832383Z",
          "shell.execute_reply": "2024-06-17T13:20:34.893204Z"
        },
        "trusted": true,
        "id": "tJ8FBV4RbHRZ"
      },
      "execution_count": null,
      "outputs": []
    }
  ]
}